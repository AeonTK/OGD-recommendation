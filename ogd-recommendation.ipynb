{
 "cells": [
  {
   "cell_type": "code",
   "execution_count": 1,
   "metadata": {},
   "outputs": [],
   "source": [
    "import requests as rq\n",
    "import pandas as pd"
   ]
  },
  {
   "cell_type": "code",
   "execution_count": 2,
   "metadata": {},
   "outputs": [
    {
     "name": "stdout",
     "output_type": "stream",
     "text": [
      "0\n",
      "10\n",
      "20\n",
      "30\n",
      "40\n",
      "50\n",
      "60\n",
      "70\n",
      "80\n",
      "90\n",
      "100\n",
      "110\n",
      "120\n",
      "130\n",
      "140\n",
      "150\n",
      "160\n",
      "170\n",
      "180\n",
      "190\n",
      "200\n",
      "210\n",
      "220\n",
      "230\n",
      "240\n",
      "250\n",
      "260\n",
      "270\n",
      "280\n",
      "290\n",
      "300\n",
      "310\n",
      "320\n",
      "330\n",
      "340\n",
      "350\n",
      "360\n",
      "370\n",
      "380\n",
      "390\n",
      "400\n",
      "410\n",
      "420\n",
      "430\n",
      "440\n",
      "450\n",
      "460\n",
      "470\n",
      "480\n",
      "490\n"
     ]
    }
   ],
   "source": [
    "count = 500\n",
    "\n",
    "metadatasList = []\n",
    "\n",
    "headers = {\n",
    "    \"Accept\": \"application/json\"\n",
    "}\n",
    "\n",
    "for i in range(int(count/10)):\n",
    "    url = f\"https://data.europa.eu/api/hub/search/search?q=&filter=dataset&includes=id,title.en,description.en,languages,modified,issued,catalog.id,catalog.title,catalog.country.id,distributions.id,distributions.format.label,distributions.format.id,distributions.license,categories.label,publisher&page={i}\"\n",
    "    print(i*10)\n",
    "    response = rq.get(url, headers=headers)\n",
    "    data = response.json()\n",
    "    metadatasList.extend(data[\"result\"][\"results\"])"
   ]
  },
  {
   "cell_type": "code",
   "execution_count": 3,
   "metadata": {},
   "outputs": [],
   "source": [
    "dataset = pd.json_normalize(metadatasList)"
   ]
  },
  {
   "cell_type": "code",
   "execution_count": 4,
   "metadata": {},
   "outputs": [
    {
     "data": {
      "text/html": [
       "<div>\n",
       "<style scoped>\n",
       "    .dataframe tbody tr th:only-of-type {\n",
       "        vertical-align: middle;\n",
       "    }\n",
       "\n",
       "    .dataframe tbody tr th {\n",
       "        vertical-align: top;\n",
       "    }\n",
       "\n",
       "    .dataframe thead th {\n",
       "        text-align: right;\n",
       "    }\n",
       "</style>\n",
       "<table border=\"1\" class=\"dataframe\">\n",
       "  <thead>\n",
       "    <tr style=\"text-align: right;\">\n",
       "      <th></th>\n",
       "      <th>modified</th>\n",
       "      <th>id</th>\n",
       "      <th>categories</th>\n",
       "      <th>issued</th>\n",
       "      <th>distributions</th>\n",
       "      <th>catalog.id</th>\n",
       "      <th>catalog.title.de</th>\n",
       "      <th>catalog.country.id</th>\n",
       "      <th>description.en</th>\n",
       "      <th>title.en</th>\n",
       "      <th>publisher.name</th>\n",
       "      <th>publisher.type</th>\n",
       "      <th>publisher.email</th>\n",
       "      <th>publisher.homepage</th>\n",
       "    </tr>\n",
       "  </thead>\n",
       "  <tbody>\n",
       "    <tr>\n",
       "      <th>0</th>\n",
       "      <td>2021-11-23</td>\n",
       "      <td>025856e5-1a50-4cf1-8091-73ca6dfd9a6b</td>\n",
       "      <td>[{'label': {'nn': 'Jordbruk, fiskeri, skogbruk...</td>\n",
       "      <td>2021-11-19</td>\n",
       "      <td>[{'format': {'id': 'WFS_SRVC', 'label': 'WFS'}...</td>\n",
       "      <td>gdi-de</td>\n",
       "      <td>GDI-DE</td>\n",
       "      <td>de</td>\n",
       "      <td>WFS Development Plan ‘Gänberg + Simplified Cha...</td>\n",
       "      <td>WFS Gänberg + Simplified change Gänsberg</td>\n",
       "      <td>NaN</td>\n",
       "      <td>NaN</td>\n",
       "      <td>NaN</td>\n",
       "      <td>NaN</td>\n",
       "    </tr>\n",
       "    <tr>\n",
       "      <th>1</th>\n",
       "      <td>2021-11-03</td>\n",
       "      <td>02363749-c46e-4f5c-974b-8272ea30b70f</td>\n",
       "      <td>[{'label': {'nn': 'Jordbruk, fiskeri, skogbruk...</td>\n",
       "      <td>2021-11-03</td>\n",
       "      <td>[{'format': {'id': 'WFS_SRVC', 'label': 'WFS'}...</td>\n",
       "      <td>gdi-de</td>\n",
       "      <td>GDI-DE</td>\n",
       "      <td>de</td>\n",
       "      <td>WFS service of the urban development plan “Hag...</td>\n",
       "      <td>WFS INSPIRE BPL Hagenreute I 2nd amendment</td>\n",
       "      <td>NaN</td>\n",
       "      <td>NaN</td>\n",
       "      <td>NaN</td>\n",
       "      <td>NaN</td>\n",
       "    </tr>\n",
       "    <tr>\n",
       "      <th>2</th>\n",
       "      <td>2022-06-22</td>\n",
       "      <td>c2f2cc24-1cb8-4b2c-96fb-16037ed8c3a5</td>\n",
       "      <td>[{'label': {'nn': 'Jordbruk, fiskeri, skogbruk...</td>\n",
       "      <td>2022-06-21</td>\n",
       "      <td>[{'format': {'id': 'WMS_SRVC', 'label': 'WMS'}...</td>\n",
       "      <td>gdi-de</td>\n",
       "      <td>GDI-DE</td>\n",
       "      <td>de</td>\n",
       "      <td>WMS service of the development plan “Simmetsga...</td>\n",
       "      <td>WMS XPlanung BPL “Simmetsgasse 2nd change”</td>\n",
       "      <td>NaN</td>\n",
       "      <td>NaN</td>\n",
       "      <td>NaN</td>\n",
       "      <td>NaN</td>\n",
       "    </tr>\n",
       "    <tr>\n",
       "      <th>3</th>\n",
       "      <td>2018-04-25</td>\n",
       "      <td>de-dwd-mosmix-92004</td>\n",
       "      <td>[{'label': {'nn': 'Vitskap og teknologi', 'de'...</td>\n",
       "      <td>NaN</td>\n",
       "      <td>NaN</td>\n",
       "      <td>gdi-de</td>\n",
       "      <td>GDI-DE</td>\n",
       "      <td>de</td>\n",
       "      <td>DWD’s fully automatic MOSMIX product optimizes...</td>\n",
       "      <td>Model Output Statistics for WEWAK (92004)</td>\n",
       "      <td>NaN</td>\n",
       "      <td>NaN</td>\n",
       "      <td>NaN</td>\n",
       "      <td>NaN</td>\n",
       "    </tr>\n",
       "    <tr>\n",
       "      <th>4</th>\n",
       "      <td>2018-04-25</td>\n",
       "      <td>de-dwd-mosmix-72753</td>\n",
       "      <td>[{'label': {'nn': 'Vitskap og teknologi', 'de'...</td>\n",
       "      <td>NaN</td>\n",
       "      <td>NaN</td>\n",
       "      <td>gdi-de</td>\n",
       "      <td>GDI-DE</td>\n",
       "      <td>de</td>\n",
       "      <td>DWD’s fully automatic MOSMIX product optimizes...</td>\n",
       "      <td>Model Output Statistics for FARGO WSO AP (72753)</td>\n",
       "      <td>NaN</td>\n",
       "      <td>NaN</td>\n",
       "      <td>NaN</td>\n",
       "      <td>NaN</td>\n",
       "    </tr>\n",
       "    <tr>\n",
       "      <th>...</th>\n",
       "      <td>...</td>\n",
       "      <td>...</td>\n",
       "      <td>...</td>\n",
       "      <td>...</td>\n",
       "      <td>...</td>\n",
       "      <td>...</td>\n",
       "      <td>...</td>\n",
       "      <td>...</td>\n",
       "      <td>...</td>\n",
       "      <td>...</td>\n",
       "      <td>...</td>\n",
       "      <td>...</td>\n",
       "      <td>...</td>\n",
       "      <td>...</td>\n",
       "    </tr>\n",
       "    <tr>\n",
       "      <th>495</th>\n",
       "      <td>2021-07-25</td>\n",
       "      <td>a24b4856-eac3-4c54-a280-969ea28281d8</td>\n",
       "      <td>[{'label': {'nn': 'Jordbruk, fiskeri, skogbruk...</td>\n",
       "      <td>2021-05-28</td>\n",
       "      <td>[{'format': {'id': 'WMS_SRVC', 'label': 'WMS'}...</td>\n",
       "      <td>gdi-de</td>\n",
       "      <td>GDI-DE</td>\n",
       "      <td>de</td>\n",
       "      <td>WMS service of the development plan “Köstlin-/...</td>\n",
       "      <td>WMS XPlanung BPL “Köstlin-/Germersheimer Straß...</td>\n",
       "      <td>NaN</td>\n",
       "      <td>NaN</td>\n",
       "      <td>NaN</td>\n",
       "      <td>NaN</td>\n",
       "    </tr>\n",
       "    <tr>\n",
       "      <th>496</th>\n",
       "      <td>2021-11-03</td>\n",
       "      <td>a243041c-e5a8-4ae5-8c80-87a340387a2e</td>\n",
       "      <td>[{'label': {'nn': 'Jordbruk, fiskeri, skogbruk...</td>\n",
       "      <td>2021-11-03</td>\n",
       "      <td>[{'format': {'id': 'WMS_SRVC', 'label': 'WMS'}...</td>\n",
       "      <td>gdi-de</td>\n",
       "      <td>GDI-DE</td>\n",
       "      <td>de</td>\n",
       "      <td>WMS service of the urban development plan “Bei...</td>\n",
       "      <td>WMS INSPIRE BPL At the village — outdoor set</td>\n",
       "      <td>NaN</td>\n",
       "      <td>NaN</td>\n",
       "      <td>NaN</td>\n",
       "      <td>NaN</td>\n",
       "    </tr>\n",
       "    <tr>\n",
       "      <th>497</th>\n",
       "      <td>2024-06-06</td>\n",
       "      <td>a24a966e-ce4d-4e1f-9240-5fad52a1f716</td>\n",
       "      <td>NaN</td>\n",
       "      <td>2020-12-31</td>\n",
       "      <td>[{'format': {'id': 'WMS_SRVC', 'label': 'WMS'}...</td>\n",
       "      <td>gdi-de</td>\n",
       "      <td>GDI-DE</td>\n",
       "      <td>de</td>\n",
       "      <td>WMS service of the development plan “Young Vin...</td>\n",
       "      <td>WMS XPlanung BPL “Young Vineyards and Industre...</td>\n",
       "      <td>NaN</td>\n",
       "      <td>NaN</td>\n",
       "      <td>NaN</td>\n",
       "      <td>NaN</td>\n",
       "    </tr>\n",
       "    <tr>\n",
       "      <th>498</th>\n",
       "      <td>2021-07-18</td>\n",
       "      <td>a22e3d9b-11d0-430e-9b8d-9e110563f13f</td>\n",
       "      <td>[{'label': {'nn': 'Jordbruk, fiskeri, skogbruk...</td>\n",
       "      <td>2021-01-13</td>\n",
       "      <td>[{'format': {'id': 'WMS_SRVC', 'label': 'WMS'}...</td>\n",
       "      <td>gdi-de</td>\n",
       "      <td>GDI-DE</td>\n",
       "      <td>de</td>\n",
       "      <td>WMS service of the development plan “Industria...</td>\n",
       "      <td>WMS XPlanung BPL “Industrial Area East 2nd Ame...</td>\n",
       "      <td>NaN</td>\n",
       "      <td>NaN</td>\n",
       "      <td>NaN</td>\n",
       "      <td>NaN</td>\n",
       "    </tr>\n",
       "    <tr>\n",
       "      <th>499</th>\n",
       "      <td>2024-06-13</td>\n",
       "      <td>a236eba9-5734-4502-b1d4-60b72e03a7ee</td>\n",
       "      <td>NaN</td>\n",
       "      <td>2020-12-31</td>\n",
       "      <td>[{'format': {'id': 'WMS_SRVC', 'label': 'WMS'}...</td>\n",
       "      <td>gdi-de</td>\n",
       "      <td>GDI-DE</td>\n",
       "      <td>de</td>\n",
       "      <td>WMS service of the development plan \"Wiesenäck...</td>\n",
       "      <td>WMS XPlanung BPL \"Wiesenäcker I - 1st Amendment\"</td>\n",
       "      <td>NaN</td>\n",
       "      <td>NaN</td>\n",
       "      <td>NaN</td>\n",
       "      <td>NaN</td>\n",
       "    </tr>\n",
       "  </tbody>\n",
       "</table>\n",
       "<p>500 rows × 14 columns</p>\n",
       "</div>"
      ],
      "text/plain": [
       "       modified                                    id  \\\n",
       "0    2021-11-23  025856e5-1a50-4cf1-8091-73ca6dfd9a6b   \n",
       "1    2021-11-03  02363749-c46e-4f5c-974b-8272ea30b70f   \n",
       "2    2022-06-22  c2f2cc24-1cb8-4b2c-96fb-16037ed8c3a5   \n",
       "3    2018-04-25                   de-dwd-mosmix-92004   \n",
       "4    2018-04-25                   de-dwd-mosmix-72753   \n",
       "..          ...                                   ...   \n",
       "495  2021-07-25  a24b4856-eac3-4c54-a280-969ea28281d8   \n",
       "496  2021-11-03  a243041c-e5a8-4ae5-8c80-87a340387a2e   \n",
       "497  2024-06-06  a24a966e-ce4d-4e1f-9240-5fad52a1f716   \n",
       "498  2021-07-18  a22e3d9b-11d0-430e-9b8d-9e110563f13f   \n",
       "499  2024-06-13  a236eba9-5734-4502-b1d4-60b72e03a7ee   \n",
       "\n",
       "                                            categories      issued  \\\n",
       "0    [{'label': {'nn': 'Jordbruk, fiskeri, skogbruk...  2021-11-19   \n",
       "1    [{'label': {'nn': 'Jordbruk, fiskeri, skogbruk...  2021-11-03   \n",
       "2    [{'label': {'nn': 'Jordbruk, fiskeri, skogbruk...  2022-06-21   \n",
       "3    [{'label': {'nn': 'Vitskap og teknologi', 'de'...         NaN   \n",
       "4    [{'label': {'nn': 'Vitskap og teknologi', 'de'...         NaN   \n",
       "..                                                 ...         ...   \n",
       "495  [{'label': {'nn': 'Jordbruk, fiskeri, skogbruk...  2021-05-28   \n",
       "496  [{'label': {'nn': 'Jordbruk, fiskeri, skogbruk...  2021-11-03   \n",
       "497                                                NaN  2020-12-31   \n",
       "498  [{'label': {'nn': 'Jordbruk, fiskeri, skogbruk...  2021-01-13   \n",
       "499                                                NaN  2020-12-31   \n",
       "\n",
       "                                         distributions catalog.id  \\\n",
       "0    [{'format': {'id': 'WFS_SRVC', 'label': 'WFS'}...     gdi-de   \n",
       "1    [{'format': {'id': 'WFS_SRVC', 'label': 'WFS'}...     gdi-de   \n",
       "2    [{'format': {'id': 'WMS_SRVC', 'label': 'WMS'}...     gdi-de   \n",
       "3                                                  NaN     gdi-de   \n",
       "4                                                  NaN     gdi-de   \n",
       "..                                                 ...        ...   \n",
       "495  [{'format': {'id': 'WMS_SRVC', 'label': 'WMS'}...     gdi-de   \n",
       "496  [{'format': {'id': 'WMS_SRVC', 'label': 'WMS'}...     gdi-de   \n",
       "497  [{'format': {'id': 'WMS_SRVC', 'label': 'WMS'}...     gdi-de   \n",
       "498  [{'format': {'id': 'WMS_SRVC', 'label': 'WMS'}...     gdi-de   \n",
       "499  [{'format': {'id': 'WMS_SRVC', 'label': 'WMS'}...     gdi-de   \n",
       "\n",
       "    catalog.title.de catalog.country.id  \\\n",
       "0             GDI-DE                 de   \n",
       "1             GDI-DE                 de   \n",
       "2             GDI-DE                 de   \n",
       "3             GDI-DE                 de   \n",
       "4             GDI-DE                 de   \n",
       "..               ...                ...   \n",
       "495           GDI-DE                 de   \n",
       "496           GDI-DE                 de   \n",
       "497           GDI-DE                 de   \n",
       "498           GDI-DE                 de   \n",
       "499           GDI-DE                 de   \n",
       "\n",
       "                                        description.en  \\\n",
       "0    WFS Development Plan ‘Gänberg + Simplified Cha...   \n",
       "1    WFS service of the urban development plan “Hag...   \n",
       "2    WMS service of the development plan “Simmetsga...   \n",
       "3    DWD’s fully automatic MOSMIX product optimizes...   \n",
       "4    DWD’s fully automatic MOSMIX product optimizes...   \n",
       "..                                                 ...   \n",
       "495  WMS service of the development plan “Köstlin-/...   \n",
       "496  WMS service of the urban development plan “Bei...   \n",
       "497  WMS service of the development plan “Young Vin...   \n",
       "498  WMS service of the development plan “Industria...   \n",
       "499  WMS service of the development plan \"Wiesenäck...   \n",
       "\n",
       "                                              title.en publisher.name  \\\n",
       "0             WFS Gänberg + Simplified change Gänsberg            NaN   \n",
       "1           WFS INSPIRE BPL Hagenreute I 2nd amendment            NaN   \n",
       "2           WMS XPlanung BPL “Simmetsgasse 2nd change”            NaN   \n",
       "3            Model Output Statistics for WEWAK (92004)            NaN   \n",
       "4     Model Output Statistics for FARGO WSO AP (72753)            NaN   \n",
       "..                                                 ...            ...   \n",
       "495  WMS XPlanung BPL “Köstlin-/Germersheimer Straß...            NaN   \n",
       "496       WMS INSPIRE BPL At the village — outdoor set            NaN   \n",
       "497  WMS XPlanung BPL “Young Vineyards and Industre...            NaN   \n",
       "498  WMS XPlanung BPL “Industrial Area East 2nd Ame...            NaN   \n",
       "499   WMS XPlanung BPL \"Wiesenäcker I - 1st Amendment\"            NaN   \n",
       "\n",
       "    publisher.type publisher.email publisher.homepage  \n",
       "0              NaN             NaN                NaN  \n",
       "1              NaN             NaN                NaN  \n",
       "2              NaN             NaN                NaN  \n",
       "3              NaN             NaN                NaN  \n",
       "4              NaN             NaN                NaN  \n",
       "..             ...             ...                ...  \n",
       "495            NaN             NaN                NaN  \n",
       "496            NaN             NaN                NaN  \n",
       "497            NaN             NaN                NaN  \n",
       "498            NaN             NaN                NaN  \n",
       "499            NaN             NaN                NaN  \n",
       "\n",
       "[500 rows x 14 columns]"
      ]
     },
     "execution_count": 4,
     "metadata": {},
     "output_type": "execute_result"
    }
   ],
   "source": [
    "dataset"
   ]
  },
  {
   "cell_type": "code",
   "execution_count": 5,
   "metadata": {},
   "outputs": [
    {
     "data": {
      "text/plain": [
       "Index(['modified', 'id', 'categories', 'issued', 'distributions', 'catalog.id',\n",
       "       'catalog.title.de', 'catalog.country.id', 'description.en', 'title.en',\n",
       "       'publisher.name', 'publisher.type', 'publisher.email',\n",
       "       'publisher.homepage'],\n",
       "      dtype='object')"
      ]
     },
     "execution_count": 5,
     "metadata": {},
     "output_type": "execute_result"
    }
   ],
   "source": [
    "dataset.columns"
   ]
  },
  {
   "cell_type": "code",
   "execution_count": 6,
   "metadata": {},
   "outputs": [
    {
     "name": "stderr",
     "output_type": "stream",
     "text": [
      "C:\\Users\\Ramil\\AppData\\Local\\Temp\\ipykernel_1480\\1089690094.py:1: FutureWarning: A value is trying to be set on a copy of a DataFrame or Series through chained assignment using an inplace method.\n",
      "The behavior will change in pandas 3.0. This inplace method will never work because the intermediate object on which we are setting values always behaves as a copy.\n",
      "\n",
      "For example, when doing 'df[col].method(value, inplace=True)', try using 'df.method({col: value}, inplace=True)' or df[col] = df[col].method(value) instead, to perform the operation inplace on the original object.\n",
      "\n",
      "\n",
      "  dataset[\"categories\"].fillna(\"\", inplace=True)\n"
     ]
    }
   ],
   "source": [
    "dataset[\"categories\"].fillna(\"\", inplace=True)"
   ]
  },
  {
   "cell_type": "code",
   "execution_count": 7,
   "metadata": {},
   "outputs": [],
   "source": [
    "dataset.loc[:, \"category\"] = dataset.loc[:, \"categories\"].apply(lambda x: x[0]['label']['en'] if x != '' else None)"
   ]
  },
  {
   "cell_type": "code",
   "execution_count": 8,
   "metadata": {},
   "outputs": [],
   "source": [
    "dataset = dataset.drop(columns=[\"modified\", \"issued\", \"distributions\", \"categories\"])"
   ]
  },
  {
   "cell_type": "code",
   "execution_count": 9,
   "metadata": {},
   "outputs": [
    {
     "data": {
      "text/html": [
       "<div>\n",
       "<style scoped>\n",
       "    .dataframe tbody tr th:only-of-type {\n",
       "        vertical-align: middle;\n",
       "    }\n",
       "\n",
       "    .dataframe tbody tr th {\n",
       "        vertical-align: top;\n",
       "    }\n",
       "\n",
       "    .dataframe thead th {\n",
       "        text-align: right;\n",
       "    }\n",
       "</style>\n",
       "<table border=\"1\" class=\"dataframe\">\n",
       "  <thead>\n",
       "    <tr style=\"text-align: right;\">\n",
       "      <th></th>\n",
       "      <th>id</th>\n",
       "      <th>catalog.id</th>\n",
       "      <th>catalog.title.de</th>\n",
       "      <th>catalog.country.id</th>\n",
       "      <th>description.en</th>\n",
       "      <th>title.en</th>\n",
       "      <th>publisher.name</th>\n",
       "      <th>publisher.type</th>\n",
       "      <th>publisher.email</th>\n",
       "      <th>publisher.homepage</th>\n",
       "      <th>category</th>\n",
       "    </tr>\n",
       "  </thead>\n",
       "  <tbody>\n",
       "    <tr>\n",
       "      <th>0</th>\n",
       "      <td>025856e5-1a50-4cf1-8091-73ca6dfd9a6b</td>\n",
       "      <td>gdi-de</td>\n",
       "      <td>GDI-DE</td>\n",
       "      <td>de</td>\n",
       "      <td>WFS Development Plan ‘Gänberg + Simplified Cha...</td>\n",
       "      <td>WFS Gänberg + Simplified change Gänsberg</td>\n",
       "      <td>NaN</td>\n",
       "      <td>NaN</td>\n",
       "      <td>NaN</td>\n",
       "      <td>NaN</td>\n",
       "      <td>Agriculture, fisheries, forestry and food</td>\n",
       "    </tr>\n",
       "    <tr>\n",
       "      <th>1</th>\n",
       "      <td>02363749-c46e-4f5c-974b-8272ea30b70f</td>\n",
       "      <td>gdi-de</td>\n",
       "      <td>GDI-DE</td>\n",
       "      <td>de</td>\n",
       "      <td>WFS service of the urban development plan “Hag...</td>\n",
       "      <td>WFS INSPIRE BPL Hagenreute I 2nd amendment</td>\n",
       "      <td>NaN</td>\n",
       "      <td>NaN</td>\n",
       "      <td>NaN</td>\n",
       "      <td>NaN</td>\n",
       "      <td>Agriculture, fisheries, forestry and food</td>\n",
       "    </tr>\n",
       "    <tr>\n",
       "      <th>2</th>\n",
       "      <td>c2f2cc24-1cb8-4b2c-96fb-16037ed8c3a5</td>\n",
       "      <td>gdi-de</td>\n",
       "      <td>GDI-DE</td>\n",
       "      <td>de</td>\n",
       "      <td>WMS service of the development plan “Simmetsga...</td>\n",
       "      <td>WMS XPlanung BPL “Simmetsgasse 2nd change”</td>\n",
       "      <td>NaN</td>\n",
       "      <td>NaN</td>\n",
       "      <td>NaN</td>\n",
       "      <td>NaN</td>\n",
       "      <td>Agriculture, fisheries, forestry and food</td>\n",
       "    </tr>\n",
       "    <tr>\n",
       "      <th>3</th>\n",
       "      <td>de-dwd-mosmix-92004</td>\n",
       "      <td>gdi-de</td>\n",
       "      <td>GDI-DE</td>\n",
       "      <td>de</td>\n",
       "      <td>DWD’s fully automatic MOSMIX product optimizes...</td>\n",
       "      <td>Model Output Statistics for WEWAK (92004)</td>\n",
       "      <td>NaN</td>\n",
       "      <td>NaN</td>\n",
       "      <td>NaN</td>\n",
       "      <td>NaN</td>\n",
       "      <td>Science and technology</td>\n",
       "    </tr>\n",
       "    <tr>\n",
       "      <th>4</th>\n",
       "      <td>de-dwd-mosmix-72753</td>\n",
       "      <td>gdi-de</td>\n",
       "      <td>GDI-DE</td>\n",
       "      <td>de</td>\n",
       "      <td>DWD’s fully automatic MOSMIX product optimizes...</td>\n",
       "      <td>Model Output Statistics for FARGO WSO AP (72753)</td>\n",
       "      <td>NaN</td>\n",
       "      <td>NaN</td>\n",
       "      <td>NaN</td>\n",
       "      <td>NaN</td>\n",
       "      <td>Science and technology</td>\n",
       "    </tr>\n",
       "    <tr>\n",
       "      <th>...</th>\n",
       "      <td>...</td>\n",
       "      <td>...</td>\n",
       "      <td>...</td>\n",
       "      <td>...</td>\n",
       "      <td>...</td>\n",
       "      <td>...</td>\n",
       "      <td>...</td>\n",
       "      <td>...</td>\n",
       "      <td>...</td>\n",
       "      <td>...</td>\n",
       "      <td>...</td>\n",
       "    </tr>\n",
       "    <tr>\n",
       "      <th>495</th>\n",
       "      <td>a24b4856-eac3-4c54-a280-969ea28281d8</td>\n",
       "      <td>gdi-de</td>\n",
       "      <td>GDI-DE</td>\n",
       "      <td>de</td>\n",
       "      <td>WMS service of the development plan “Köstlin-/...</td>\n",
       "      <td>WMS XPlanung BPL “Köstlin-/Germersheimer Straß...</td>\n",
       "      <td>NaN</td>\n",
       "      <td>NaN</td>\n",
       "      <td>NaN</td>\n",
       "      <td>NaN</td>\n",
       "      <td>Agriculture, fisheries, forestry and food</td>\n",
       "    </tr>\n",
       "    <tr>\n",
       "      <th>496</th>\n",
       "      <td>a243041c-e5a8-4ae5-8c80-87a340387a2e</td>\n",
       "      <td>gdi-de</td>\n",
       "      <td>GDI-DE</td>\n",
       "      <td>de</td>\n",
       "      <td>WMS service of the urban development plan “Bei...</td>\n",
       "      <td>WMS INSPIRE BPL At the village — outdoor set</td>\n",
       "      <td>NaN</td>\n",
       "      <td>NaN</td>\n",
       "      <td>NaN</td>\n",
       "      <td>NaN</td>\n",
       "      <td>Agriculture, fisheries, forestry and food</td>\n",
       "    </tr>\n",
       "    <tr>\n",
       "      <th>497</th>\n",
       "      <td>a24a966e-ce4d-4e1f-9240-5fad52a1f716</td>\n",
       "      <td>gdi-de</td>\n",
       "      <td>GDI-DE</td>\n",
       "      <td>de</td>\n",
       "      <td>WMS service of the development plan “Young Vin...</td>\n",
       "      <td>WMS XPlanung BPL “Young Vineyards and Industre...</td>\n",
       "      <td>NaN</td>\n",
       "      <td>NaN</td>\n",
       "      <td>NaN</td>\n",
       "      <td>NaN</td>\n",
       "      <td>None</td>\n",
       "    </tr>\n",
       "    <tr>\n",
       "      <th>498</th>\n",
       "      <td>a22e3d9b-11d0-430e-9b8d-9e110563f13f</td>\n",
       "      <td>gdi-de</td>\n",
       "      <td>GDI-DE</td>\n",
       "      <td>de</td>\n",
       "      <td>WMS service of the development plan “Industria...</td>\n",
       "      <td>WMS XPlanung BPL “Industrial Area East 2nd Ame...</td>\n",
       "      <td>NaN</td>\n",
       "      <td>NaN</td>\n",
       "      <td>NaN</td>\n",
       "      <td>NaN</td>\n",
       "      <td>Agriculture, fisheries, forestry and food</td>\n",
       "    </tr>\n",
       "    <tr>\n",
       "      <th>499</th>\n",
       "      <td>a236eba9-5734-4502-b1d4-60b72e03a7ee</td>\n",
       "      <td>gdi-de</td>\n",
       "      <td>GDI-DE</td>\n",
       "      <td>de</td>\n",
       "      <td>WMS service of the development plan \"Wiesenäck...</td>\n",
       "      <td>WMS XPlanung BPL \"Wiesenäcker I - 1st Amendment\"</td>\n",
       "      <td>NaN</td>\n",
       "      <td>NaN</td>\n",
       "      <td>NaN</td>\n",
       "      <td>NaN</td>\n",
       "      <td>None</td>\n",
       "    </tr>\n",
       "  </tbody>\n",
       "</table>\n",
       "<p>500 rows × 11 columns</p>\n",
       "</div>"
      ],
      "text/plain": [
       "                                       id catalog.id catalog.title.de  \\\n",
       "0    025856e5-1a50-4cf1-8091-73ca6dfd9a6b     gdi-de           GDI-DE   \n",
       "1    02363749-c46e-4f5c-974b-8272ea30b70f     gdi-de           GDI-DE   \n",
       "2    c2f2cc24-1cb8-4b2c-96fb-16037ed8c3a5     gdi-de           GDI-DE   \n",
       "3                     de-dwd-mosmix-92004     gdi-de           GDI-DE   \n",
       "4                     de-dwd-mosmix-72753     gdi-de           GDI-DE   \n",
       "..                                    ...        ...              ...   \n",
       "495  a24b4856-eac3-4c54-a280-969ea28281d8     gdi-de           GDI-DE   \n",
       "496  a243041c-e5a8-4ae5-8c80-87a340387a2e     gdi-de           GDI-DE   \n",
       "497  a24a966e-ce4d-4e1f-9240-5fad52a1f716     gdi-de           GDI-DE   \n",
       "498  a22e3d9b-11d0-430e-9b8d-9e110563f13f     gdi-de           GDI-DE   \n",
       "499  a236eba9-5734-4502-b1d4-60b72e03a7ee     gdi-de           GDI-DE   \n",
       "\n",
       "    catalog.country.id                                     description.en  \\\n",
       "0                   de  WFS Development Plan ‘Gänberg + Simplified Cha...   \n",
       "1                   de  WFS service of the urban development plan “Hag...   \n",
       "2                   de  WMS service of the development plan “Simmetsga...   \n",
       "3                   de  DWD’s fully automatic MOSMIX product optimizes...   \n",
       "4                   de  DWD’s fully automatic MOSMIX product optimizes...   \n",
       "..                 ...                                                ...   \n",
       "495                 de  WMS service of the development plan “Köstlin-/...   \n",
       "496                 de  WMS service of the urban development plan “Bei...   \n",
       "497                 de  WMS service of the development plan “Young Vin...   \n",
       "498                 de  WMS service of the development plan “Industria...   \n",
       "499                 de  WMS service of the development plan \"Wiesenäck...   \n",
       "\n",
       "                                              title.en publisher.name  \\\n",
       "0             WFS Gänberg + Simplified change Gänsberg            NaN   \n",
       "1           WFS INSPIRE BPL Hagenreute I 2nd amendment            NaN   \n",
       "2           WMS XPlanung BPL “Simmetsgasse 2nd change”            NaN   \n",
       "3            Model Output Statistics for WEWAK (92004)            NaN   \n",
       "4     Model Output Statistics for FARGO WSO AP (72753)            NaN   \n",
       "..                                                 ...            ...   \n",
       "495  WMS XPlanung BPL “Köstlin-/Germersheimer Straß...            NaN   \n",
       "496       WMS INSPIRE BPL At the village — outdoor set            NaN   \n",
       "497  WMS XPlanung BPL “Young Vineyards and Industre...            NaN   \n",
       "498  WMS XPlanung BPL “Industrial Area East 2nd Ame...            NaN   \n",
       "499   WMS XPlanung BPL \"Wiesenäcker I - 1st Amendment\"            NaN   \n",
       "\n",
       "    publisher.type publisher.email publisher.homepage  \\\n",
       "0              NaN             NaN                NaN   \n",
       "1              NaN             NaN                NaN   \n",
       "2              NaN             NaN                NaN   \n",
       "3              NaN             NaN                NaN   \n",
       "4              NaN             NaN                NaN   \n",
       "..             ...             ...                ...   \n",
       "495            NaN             NaN                NaN   \n",
       "496            NaN             NaN                NaN   \n",
       "497            NaN             NaN                NaN   \n",
       "498            NaN             NaN                NaN   \n",
       "499            NaN             NaN                NaN   \n",
       "\n",
       "                                      category  \n",
       "0    Agriculture, fisheries, forestry and food  \n",
       "1    Agriculture, fisheries, forestry and food  \n",
       "2    Agriculture, fisheries, forestry and food  \n",
       "3                       Science and technology  \n",
       "4                       Science and technology  \n",
       "..                                         ...  \n",
       "495  Agriculture, fisheries, forestry and food  \n",
       "496  Agriculture, fisheries, forestry and food  \n",
       "497                                       None  \n",
       "498  Agriculture, fisheries, forestry and food  \n",
       "499                                       None  \n",
       "\n",
       "[500 rows x 11 columns]"
      ]
     },
     "execution_count": 9,
     "metadata": {},
     "output_type": "execute_result"
    }
   ],
   "source": [
    "dataset"
   ]
  },
  {
   "cell_type": "code",
   "execution_count": 10,
   "metadata": {},
   "outputs": [
    {
     "data": {
      "text/plain": [
       "0      WFS Development Plan ‘Gänberg + Simplified Cha...\n",
       "1      WFS service of the urban development plan “Hag...\n",
       "2      WMS service of the development plan “Simmetsga...\n",
       "3      DWD’s fully automatic MOSMIX product optimizes...\n",
       "4      DWD’s fully automatic MOSMIX product optimizes...\n",
       "                             ...                        \n",
       "495    WMS service of the development plan “Köstlin-/...\n",
       "496    WMS service of the urban development plan “Bei...\n",
       "497    WMS service of the development plan “Young Vin...\n",
       "498    WMS service of the development plan “Industria...\n",
       "499    WMS service of the development plan \"Wiesenäck...\n",
       "Name: description.en, Length: 500, dtype: object"
      ]
     },
     "execution_count": 10,
     "metadata": {},
     "output_type": "execute_result"
    }
   ],
   "source": [
    "dataset[\"description.en\"]"
   ]
  },
  {
   "cell_type": "code",
   "execution_count": 11,
   "metadata": {},
   "outputs": [],
   "source": [
    "import spacy as sp"
   ]
  },
  {
   "cell_type": "code",
   "execution_count": 12,
   "metadata": {},
   "outputs": [],
   "source": [
    "nlp = sp.load(\"en_core_web_sm\")"
   ]
  },
  {
   "cell_type": "code",
   "execution_count": 13,
   "metadata": {},
   "outputs": [],
   "source": [
    "doc = nlp(dataset[\"description.en\"][0])"
   ]
  },
  {
   "cell_type": "code",
   "execution_count": 14,
   "metadata": {},
   "outputs": [
    {
     "name": "stderr",
     "output_type": "stream",
     "text": [
      "C:\\Users\\Ramil\\AppData\\Local\\Temp\\ipykernel_1480\\889232210.py:1: UserWarning: [W007] The model you're using has no word vectors loaded, so the result of the Doc.similarity method will be based on the tagger, parser and NER, which may not give useful similarity judgements. This may happen if you're using one of the small models, e.g. `en_core_web_sm`, which don't ship with word vectors and only use context-sensitive tensors. You can always add your own word vectors, or use one of the larger models instead if available.\n",
      "  nlp(dataset[\"description.en\"][0]).similarity(nlp(dataset[\"description.en\"][1]))\n"
     ]
    },
    {
     "data": {
      "text/plain": [
       "0.7206575274467468"
      ]
     },
     "execution_count": 14,
     "metadata": {},
     "output_type": "execute_result"
    }
   ],
   "source": [
    "nlp(dataset[\"description.en\"][0]).similarity(nlp(dataset[\"description.en\"][1]))"
   ]
  },
  {
   "cell_type": "code",
   "execution_count": 15,
   "metadata": {},
   "outputs": [
    {
     "data": {
      "text/plain": [
       "0      WFS Development Plan ‘Gänberg + Simplified Cha...\n",
       "1      WFS service of the urban development plan “Hag...\n",
       "2      WMS service of the development plan “Simmetsga...\n",
       "3      DWD’s fully automatic MOSMIX product optimizes...\n",
       "4      DWD’s fully automatic MOSMIX product optimizes...\n",
       "                             ...                        \n",
       "495    WMS service of the development plan “Köstlin-/...\n",
       "496    WMS service of the urban development plan “Bei...\n",
       "497    WMS service of the development plan “Young Vin...\n",
       "498    WMS service of the development plan “Industria...\n",
       "499    WMS service of the development plan \"Wiesenäck...\n",
       "Name: description.en, Length: 500, dtype: object"
      ]
     },
     "execution_count": 15,
     "metadata": {},
     "output_type": "execute_result"
    }
   ],
   "source": [
    "dataset[\"description.en\"].fillna(\"\")"
   ]
  },
  {
   "cell_type": "code",
   "execution_count": 16,
   "metadata": {},
   "outputs": [
    {
     "data": {
      "text/plain": [
       "'Description of INSPIRE Download Service (predefined Atom): Development plan “Special Area Photovoltaics” of the municipality of Beilingen – The link(s) for downloading the data records is/are generated dynamically from Get Map Calling a WMS Interface'"
      ]
     },
     "execution_count": 16,
     "metadata": {},
     "output_type": "execute_result"
    }
   ],
   "source": [
    "dataset[\"description.en\"][16]"
   ]
  },
  {
   "cell_type": "code",
   "execution_count": 17,
   "metadata": {},
   "outputs": [],
   "source": [
    "pr_count = len(dataset[\"description.en\"])"
   ]
  },
  {
   "cell_type": "code",
   "execution_count": 18,
   "metadata": {},
   "outputs": [
    {
     "data": {
      "text/plain": [
       "500"
      ]
     },
     "execution_count": 18,
     "metadata": {},
     "output_type": "execute_result"
    }
   ],
   "source": [
    "pr_count"
   ]
  },
  {
   "cell_type": "code",
   "execution_count": 19,
   "metadata": {},
   "outputs": [],
   "source": [
    "s = [[-1 for _ in range(pr_count)] for _ in range(pr_count)]"
   ]
  },
  {
   "cell_type": "code",
   "execution_count": 20,
   "metadata": {},
   "outputs": [
    {
     "name": "stderr",
     "output_type": "stream",
     "text": [
      "C:\\Users\\Ramil\\AppData\\Local\\Temp\\ipykernel_1480\\3943533261.py:3: UserWarning: [W007] The model you're using has no word vectors loaded, so the result of the Doc.similarity method will be based on the tagger, parser and NER, which may not give useful similarity judgements. This may happen if you're using one of the small models, e.g. `en_core_web_sm`, which don't ship with word vectors and only use context-sensitive tensors. You can always add your own word vectors, or use one of the larger models instead if available.\n",
      "  s[i][j] = nlp(dataset[\"description.en\"][i]).similarity(nlp(dataset[\"description.en\"][j]))\n"
     ]
    },
    {
     "name": "stdout",
     "output_type": "stream",
     "text": [
      "0 1\n",
      "0 2\n",
      "0 3\n",
      "0 4\n",
      "0 5\n",
      "0 6\n",
      "0 7\n",
      "0 8\n",
      "0 9\n",
      "1 2\n",
      "1 3\n",
      "1 4\n",
      "1 5\n",
      "1 6\n",
      "1 7\n",
      "1 8\n",
      "1 9\n",
      "2 3\n",
      "2 4\n",
      "2 5\n",
      "2 6\n",
      "2 7\n",
      "2 8\n",
      "2 9\n",
      "3 4\n",
      "3 5\n",
      "3 6\n",
      "3 7\n",
      "3 8\n",
      "3 9\n",
      "4 5\n",
      "4 6\n",
      "4 7\n",
      "4 8\n",
      "4 9\n",
      "5 6\n",
      "5 7\n",
      "5 8\n",
      "5 9\n",
      "6 7\n",
      "6 8\n",
      "6 9\n",
      "7 8\n",
      "7 9\n",
      "8 9\n"
     ]
    }
   ],
   "source": [
    "for i in range(10):\n",
    "    for j in range(i+1, 10):\n",
    "        s[i][j] = nlp(dataset[\"description.en\"][i]).similarity(nlp(dataset[\"description.en\"][j]))\n",
    "        print(i, j)"
   ]
  },
  {
   "cell_type": "code",
   "execution_count": 21,
   "metadata": {},
   "outputs": [],
   "source": [
    "import numpy as np"
   ]
  },
  {
   "cell_type": "code",
   "execution_count": 22,
   "metadata": {},
   "outputs": [
    {
     "data": {
      "text/plain": [
       "array([496, 481, 482, 483, 484, 485, 486, 487, 488, 489, 490, 491, 492,\n",
       "       493, 494, 499, 498,  27,  28,  29,  30, 497,  16,  15, 480,  31,\n",
       "        10,  11,  12,  13,  14, 495,  32,  33,  34,  35,  36,  37,  38,\n",
       "        39,  40,  41,  42,  43,  44,  45,  46,  47,  48,  49,  50,  51,\n",
       "        52,  53,  54,  55,  56,  57,  58,  59,  60,  61,  62,  63,  64,\n",
       "        65,  66,  67,  68,  69,  70,  71,  72,  73,  74,  75,  76,  77,\n",
       "        78,  79,  80,  81,  82,  83,  84,  85,  86,  87,  88,  89,  90,\n",
       "        91,  92,  93,  94,  95,  96,  97,  98,  99, 100, 101, 102, 103,\n",
       "       104, 105, 106, 107, 108, 109, 110, 111, 112, 113, 114, 115, 116,\n",
       "       117, 118, 119, 120, 121, 122, 123, 124, 125, 126, 127, 128, 129,\n",
       "       130, 131, 132, 133, 134, 135, 136, 137, 138, 139, 140, 141, 142,\n",
       "       143, 144, 145, 146, 147, 148, 149, 150, 151, 152, 153, 154, 155,\n",
       "       156, 157, 158, 159, 160, 161, 162, 163, 164, 165, 166, 167, 168,\n",
       "       169, 170, 171, 172, 173, 174, 175, 176, 177, 178, 179, 180, 181,\n",
       "       182, 183, 184, 185, 186, 187, 188, 189, 190, 191, 192, 193, 194,\n",
       "       195, 196, 197, 198, 199, 200, 201, 202, 203, 204, 205, 206, 207,\n",
       "       208, 209, 210, 211, 212, 213, 214, 215, 216, 217, 218, 219, 220,\n",
       "       221, 222, 223, 224, 225, 226, 227, 228, 229, 230, 231, 232, 233,\n",
       "       234, 235, 236, 237, 238, 239, 240, 241, 242, 243, 244, 245, 246,\n",
       "       247, 248, 249, 250, 251, 252, 253, 254, 255, 256, 257, 258, 259,\n",
       "       260, 261, 262, 263, 264, 265, 266, 267, 268, 269, 270, 271, 272,\n",
       "       273, 274, 275, 276, 277, 278, 279, 280, 281, 282, 283, 284, 285,\n",
       "       286, 287, 288, 289, 290, 291, 292, 293, 294, 295, 296, 297, 298,\n",
       "       299, 300, 301, 302, 303, 304, 305, 306, 307, 308, 309, 310, 311,\n",
       "       312, 313, 314, 315, 316, 317, 318, 319, 320, 321, 322, 323, 324,\n",
       "       325, 326, 327, 328, 329, 330, 331, 332, 333, 334, 335, 336, 337,\n",
       "       338, 339, 340, 341, 342, 343, 344, 345, 346, 347, 348, 349, 350,\n",
       "       351, 352, 353, 354, 355, 356, 357, 358, 359, 360, 361, 362, 363,\n",
       "       364, 365, 366, 367, 368, 369, 370, 371, 372, 373, 374, 375, 376,\n",
       "       377, 378, 379, 380, 381, 382, 383, 384, 385, 386, 387, 388, 389,\n",
       "       390, 391, 392, 393, 394, 395, 396, 397, 398, 399, 400, 401, 402,\n",
       "       403, 404, 405, 406, 407, 408, 409, 410, 411, 412, 413, 414, 415,\n",
       "       416, 417, 418, 419, 420, 421, 422, 423, 424, 425, 426, 427, 428,\n",
       "       429, 430, 431, 432, 433, 434, 435, 436, 437, 438, 439, 440, 441,\n",
       "       442, 443, 444, 445, 446, 447, 448, 449, 450, 451, 452, 453, 454,\n",
       "       455, 456, 457, 458, 459, 460, 461, 462, 463, 464, 465, 466, 467,\n",
       "       468, 469, 470, 471, 472, 473, 474, 475, 476, 477, 478, 479,   0,\n",
       "        17,  18,  19,  20,  21,  22,  23,  24,  25,  26,   3,   4,   5,\n",
       "         6,   7,   8,   9,   1,   2])"
      ]
     },
     "execution_count": 22,
     "metadata": {},
     "output_type": "execute_result"
    }
   ],
   "source": [
    "np.argsort(s[0])"
   ]
  },
  {
   "cell_type": "code",
   "execution_count": 23,
   "metadata": {},
   "outputs": [
    {
     "data": {
      "text/plain": [
       "'WFS Development Plan ‘Gänberg + Simplified Change Gänsberg’ of the city of Herrenberg.'"
      ]
     },
     "execution_count": 23,
     "metadata": {},
     "output_type": "execute_result"
    }
   ],
   "source": [
    "dataset[\"description.en\"][0]"
   ]
  },
  {
   "cell_type": "code",
   "execution_count": 24,
   "metadata": {},
   "outputs": [
    {
     "data": {
      "text/plain": [
       "'WFS service of the urban development plan “Ledigsberg — Expansion” of the city of Eberbach, transformed according to INSPIRE, based on an XPlanung dataset in version 5.0.'"
      ]
     },
     "execution_count": 24,
     "metadata": {},
     "output_type": "execute_result"
    }
   ],
   "source": [
    "dataset[\"description.en\"][158]"
   ]
  },
  {
   "cell_type": "code",
   "execution_count": 25,
   "metadata": {},
   "outputs": [
    {
     "data": {
      "text/plain": [
       "Index(['id', 'catalog.id', 'catalog.title.de', 'catalog.country.id',\n",
       "       'description.en', 'title.en', 'publisher.name', 'publisher.type',\n",
       "       'publisher.email', 'publisher.homepage', 'category'],\n",
       "      dtype='object')"
      ]
     },
     "execution_count": 25,
     "metadata": {},
     "output_type": "execute_result"
    }
   ],
   "source": [
    "dataset.columns"
   ]
  },
  {
   "cell_type": "code",
   "execution_count": 26,
   "metadata": {},
   "outputs": [],
   "source": [
    "columns = [\"title.en\", \"description.en\", \"category\"]"
   ]
  },
  {
   "cell_type": "code",
   "execution_count": 27,
   "metadata": {},
   "outputs": [],
   "source": [
    "fs = np.array([[-1 for _ in range(pr_count)] for _ in range(pr_count)], dtype='d')"
   ]
  },
  {
   "cell_type": "code",
   "execution_count": 28,
   "metadata": {},
   "outputs": [
    {
     "name": "stderr",
     "output_type": "stream",
     "text": [
      "C:\\Users\\Ramil\\AppData\\Local\\Temp\\ipykernel_1480\\1191715043.py:5: UserWarning: [W007] The model you're using has no word vectors loaded, so the result of the Doc.similarity method will be based on the tagger, parser and NER, which may not give useful similarity judgements. This may happen if you're using one of the small models, e.g. `en_core_web_sm`, which don't ship with word vectors and only use context-sensitive tensors. You can always add your own word vectors, or use one of the larger models instead if available.\n",
      "  s = nlp(dataset[column][i]).similarity(nlp(dataset[column][j]))\n"
     ]
    },
    {
     "name": "stdout",
     "output_type": "stream",
     "text": [
      "0 1\n",
      "0 2\n",
      "0 3\n",
      "0 4\n",
      "0 5\n",
      "0 6\n",
      "0 7\n",
      "0 8\n",
      "0 9\n",
      "1 2\n",
      "1 3\n",
      "1 4\n",
      "1 5\n",
      "1 6\n",
      "1 7\n",
      "1 8\n",
      "1 9\n",
      "2 3\n",
      "2 4\n",
      "2 5\n",
      "2 6\n",
      "2 7\n",
      "2 8\n",
      "2 9\n",
      "3 4\n",
      "3 5\n",
      "3 6\n",
      "3 7\n",
      "3 8\n",
      "3 9\n",
      "4 5\n",
      "4 6\n",
      "4 7\n",
      "4 8\n",
      "4 9\n",
      "5 6\n",
      "5 7\n",
      "5 8\n",
      "5 9\n",
      "6 7\n",
      "6 8\n",
      "6 9\n",
      "7 8\n",
      "7 9\n",
      "8 9\n"
     ]
    }
   ],
   "source": [
    "\n",
    "for i in range(10):\n",
    "    for j in range(i+1, 10):\n",
    "        sim = 0\n",
    "        for column in columns:\n",
    "            s = nlp(dataset[column][i]).similarity(nlp(dataset[column][j]))\n",
    "            sim += s*s\n",
    "        fs[i][j] = np.sqrt(sim)\n",
    "        print(i, j)"
   ]
  },
  {
   "cell_type": "code",
   "execution_count": 29,
   "metadata": {},
   "outputs": [],
   "source": [
    "np.save(\"similarity.npy\", fs)"
   ]
  },
  {
   "cell_type": "code",
   "execution_count": 30,
   "metadata": {},
   "outputs": [],
   "source": [
    "ls = np.load(\"similarity.npy\")"
   ]
  },
  {
   "cell_type": "code",
   "execution_count": 31,
   "metadata": {},
   "outputs": [
    {
     "data": {
      "text/plain": [
       "array([[-1.        ,  1.39007509,  1.31678683, ..., -1.        ,\n",
       "        -1.        , -1.        ],\n",
       "       [-1.        , -1.        ,  1.35572857, ..., -1.        ,\n",
       "        -1.        , -1.        ],\n",
       "       [-1.        , -1.        , -1.        , ..., -1.        ,\n",
       "        -1.        , -1.        ],\n",
       "       ...,\n",
       "       [-1.        , -1.        , -1.        , ..., -1.        ,\n",
       "        -1.        , -1.        ],\n",
       "       [-1.        , -1.        , -1.        , ..., -1.        ,\n",
       "        -1.        , -1.        ],\n",
       "       [-1.        , -1.        , -1.        , ..., -1.        ,\n",
       "        -1.        , -1.        ]])"
      ]
     },
     "execution_count": 31,
     "metadata": {},
     "output_type": "execute_result"
    }
   ],
   "source": [
    "ls"
   ]
  },
  {
   "cell_type": "code",
   "execution_count": 32,
   "metadata": {},
   "outputs": [
    {
     "data": {
      "text/plain": [
       "array([[-1.        ,  1.39007509,  1.31678683, ..., -1.        ,\n",
       "        -1.        , -1.        ],\n",
       "       [-1.        , -1.        ,  1.35572857, ..., -1.        ,\n",
       "        -1.        , -1.        ],\n",
       "       [-1.        , -1.        , -1.        , ..., -1.        ,\n",
       "        -1.        , -1.        ],\n",
       "       ...,\n",
       "       [-1.        , -1.        , -1.        , ..., -1.        ,\n",
       "        -1.        , -1.        ],\n",
       "       [-1.        , -1.        , -1.        , ..., -1.        ,\n",
       "        -1.        , -1.        ],\n",
       "       [-1.        , -1.        , -1.        , ..., -1.        ,\n",
       "        -1.        , -1.        ]])"
      ]
     },
     "execution_count": 32,
     "metadata": {},
     "output_type": "execute_result"
    }
   ],
   "source": [
    "fs"
   ]
  },
  {
   "cell_type": "code",
   "execution_count": 33,
   "metadata": {},
   "outputs": [
    {
     "data": {
      "text/plain": [
       "id                                 025856e5-1a50-4cf1-8091-73ca6dfd9a6b\n",
       "catalog.id                                                       gdi-de\n",
       "catalog.title.de                                                 GDI-DE\n",
       "catalog.country.id                                                   de\n",
       "description.en        WFS Development Plan ‘Gänberg + Simplified Cha...\n",
       "title.en                       WFS Gänberg + Simplified change Gänsberg\n",
       "publisher.name                                                      NaN\n",
       "publisher.type                                                      NaN\n",
       "publisher.email                                                     NaN\n",
       "publisher.homepage                                                  NaN\n",
       "category                      Agriculture, fisheries, forestry and food\n",
       "Name: 0, dtype: object"
      ]
     },
     "execution_count": 33,
     "metadata": {},
     "output_type": "execute_result"
    }
   ],
   "source": [
    "dataset.loc[0]"
   ]
  },
  {
   "cell_type": "code",
   "execution_count": 34,
   "metadata": {},
   "outputs": [],
   "source": [
    "sample_count = 30\n",
    "survey = []\n",
    "for i in range(0, pr_count, int(pr_count/sample_count)):\n",
    "    main_dataset = dataset.loc[i]\n",
    "    recommended_datasets = dataset.loc[np.argsort(fs[i])[-5:]]\n",
    "    survey.append((main_dataset, recommended_datasets))\n"
   ]
  },
  {
   "cell_type": "code",
   "execution_count": 35,
   "metadata": {},
   "outputs": [
    {
     "data": {
      "text/plain": [
       "id                                 025856e5-1a50-4cf1-8091-73ca6dfd9a6b\n",
       "catalog.id                                                       gdi-de\n",
       "catalog.title.de                                                 GDI-DE\n",
       "catalog.country.id                                                   de\n",
       "description.en        WFS Development Plan ‘Gänberg + Simplified Cha...\n",
       "title.en                       WFS Gänberg + Simplified change Gänsberg\n",
       "publisher.name                                                      NaN\n",
       "publisher.type                                                      NaN\n",
       "publisher.email                                                     NaN\n",
       "publisher.homepage                                                  NaN\n",
       "category                      Agriculture, fisheries, forestry and food\n",
       "Name: 0, dtype: object"
      ]
     },
     "execution_count": 35,
     "metadata": {},
     "output_type": "execute_result"
    }
   ],
   "source": [
    "survey[0][0]"
   ]
  },
  {
   "cell_type": "code",
   "execution_count": 36,
   "metadata": {},
   "outputs": [
    {
     "data": {
      "text/plain": [
       "'The ISID34 TTAAii Data Designators decode as: T1 (I): Observational data (Binary coded) - BUFR T1T2 (IS): Surface/sea level T1T2A1 (ISI): Intermediate synoptic observations from fixed land stations A2 (D): 90°E - 0° northern hemisphere (Remarks from Volume-C: NATIONAL AUTOMATIC SYNOP)'"
      ]
     },
     "execution_count": 36,
     "metadata": {},
     "output_type": "execute_result"
    }
   ],
   "source": [
    "survey[3][0][\"description.en\"]"
   ]
  },
  {
   "cell_type": "code",
   "execution_count": 37,
   "metadata": {},
   "outputs": [
    {
     "data": {
      "text/plain": [
       "'Description of INSPIRE Download Service (predefined Atom): Development plan “Special Area Photovoltaics” of the municipality of Beilingen – The link(s) for downloading the data records is/are generated dynamically from Get Map Calling a WMS Interface'"
      ]
     },
     "execution_count": 37,
     "metadata": {},
     "output_type": "execute_result"
    }
   ],
   "source": [
    "survey[3][1].loc[16][\"description.en\"]"
   ]
  },
  {
   "cell_type": "code",
   "execution_count": 38,
   "metadata": {},
   "outputs": [],
   "source": [
    "import jinja2 as jj"
   ]
  },
  {
   "cell_type": "code",
   "execution_count": null,
   "metadata": {},
   "outputs": [],
   "source": [
    "fsl = jj.FileSystemLoader(searchpath=\"/\")"
   ]
  },
  {
   "cell_type": "code",
   "execution_count": 46,
   "metadata": {},
   "outputs": [],
   "source": [
    "env = jj.Environment(loader=fsl)"
   ]
  },
  {
   "cell_type": "code",
   "execution_count": null,
   "metadata": {},
   "outputs": [
    {
     "ename": "TemplateNotFound",
     "evalue": "/template.html",
     "output_type": "error",
     "traceback": [
      "\u001b[1;31m---------------------------------------------------------------------------\u001b[0m",
      "\u001b[1;31mTemplateNotFound\u001b[0m                          Traceback (most recent call last)",
      "Cell \u001b[1;32mIn[48], line 1\u001b[0m\n\u001b[1;32m----> 1\u001b[0m template \u001b[38;5;241m=\u001b[39m \u001b[43menv\u001b[49m\u001b[38;5;241;43m.\u001b[39;49m\u001b[43mget_template\u001b[49m\u001b[43m(\u001b[49m\u001b[38;5;124;43m\"\u001b[39;49m\u001b[38;5;124;43m/template.html\u001b[39;49m\u001b[38;5;124;43m\"\u001b[39;49m\u001b[43m)\u001b[49m\n",
      "File \u001b[1;32mc:\\Users\\Ramil\\source\\repos\\OGD recommendation\\.venv\\Lib\\site-packages\\jinja2\\environment.py:1013\u001b[0m, in \u001b[0;36mEnvironment.get_template\u001b[1;34m(self, name, parent, globals)\u001b[0m\n\u001b[0;32m   1010\u001b[0m \u001b[38;5;28;01mif\u001b[39;00m parent \u001b[38;5;129;01mis\u001b[39;00m \u001b[38;5;129;01mnot\u001b[39;00m \u001b[38;5;28;01mNone\u001b[39;00m:\n\u001b[0;32m   1011\u001b[0m     name \u001b[38;5;241m=\u001b[39m \u001b[38;5;28mself\u001b[39m\u001b[38;5;241m.\u001b[39mjoin_path(name, parent)\n\u001b[1;32m-> 1013\u001b[0m \u001b[38;5;28;01mreturn\u001b[39;00m \u001b[38;5;28;43mself\u001b[39;49m\u001b[38;5;241;43m.\u001b[39;49m\u001b[43m_load_template\u001b[49m\u001b[43m(\u001b[49m\u001b[43mname\u001b[49m\u001b[43m,\u001b[49m\u001b[43m \u001b[49m\u001b[38;5;28;43mglobals\u001b[39;49m\u001b[43m)\u001b[49m\n",
      "File \u001b[1;32mc:\\Users\\Ramil\\source\\repos\\OGD recommendation\\.venv\\Lib\\site-packages\\jinja2\\environment.py:972\u001b[0m, in \u001b[0;36mEnvironment._load_template\u001b[1;34m(self, name, globals)\u001b[0m\n\u001b[0;32m    968\u001b[0m             template\u001b[38;5;241m.\u001b[39mglobals\u001b[38;5;241m.\u001b[39mupdate(\u001b[38;5;28mglobals\u001b[39m)\n\u001b[0;32m    970\u001b[0m         \u001b[38;5;28;01mreturn\u001b[39;00m template\n\u001b[1;32m--> 972\u001b[0m template \u001b[38;5;241m=\u001b[39m \u001b[38;5;28;43mself\u001b[39;49m\u001b[38;5;241;43m.\u001b[39;49m\u001b[43mloader\u001b[49m\u001b[38;5;241;43m.\u001b[39;49m\u001b[43mload\u001b[49m\u001b[43m(\u001b[49m\u001b[38;5;28;43mself\u001b[39;49m\u001b[43m,\u001b[49m\u001b[43m \u001b[49m\u001b[43mname\u001b[49m\u001b[43m,\u001b[49m\u001b[43m \u001b[49m\u001b[38;5;28;43mself\u001b[39;49m\u001b[38;5;241;43m.\u001b[39;49m\u001b[43mmake_globals\u001b[49m\u001b[43m(\u001b[49m\u001b[38;5;28;43mglobals\u001b[39;49m\u001b[43m)\u001b[49m\u001b[43m)\u001b[49m\n\u001b[0;32m    974\u001b[0m \u001b[38;5;28;01mif\u001b[39;00m \u001b[38;5;28mself\u001b[39m\u001b[38;5;241m.\u001b[39mcache \u001b[38;5;129;01mis\u001b[39;00m \u001b[38;5;129;01mnot\u001b[39;00m \u001b[38;5;28;01mNone\u001b[39;00m:\n\u001b[0;32m    975\u001b[0m     \u001b[38;5;28mself\u001b[39m\u001b[38;5;241m.\u001b[39mcache[cache_key] \u001b[38;5;241m=\u001b[39m template\n",
      "File \u001b[1;32mc:\\Users\\Ramil\\source\\repos\\OGD recommendation\\.venv\\Lib\\site-packages\\jinja2\\loaders.py:126\u001b[0m, in \u001b[0;36mBaseLoader.load\u001b[1;34m(self, environment, name, globals)\u001b[0m\n\u001b[0;32m    122\u001b[0m     \u001b[38;5;28mglobals\u001b[39m \u001b[38;5;241m=\u001b[39m {}\n\u001b[0;32m    124\u001b[0m \u001b[38;5;66;03m# first we try to get the source for this template together\u001b[39;00m\n\u001b[0;32m    125\u001b[0m \u001b[38;5;66;03m# with the filename and the uptodate function.\u001b[39;00m\n\u001b[1;32m--> 126\u001b[0m source, filename, uptodate \u001b[38;5;241m=\u001b[39m \u001b[38;5;28;43mself\u001b[39;49m\u001b[38;5;241;43m.\u001b[39;49m\u001b[43mget_source\u001b[49m\u001b[43m(\u001b[49m\u001b[43menvironment\u001b[49m\u001b[43m,\u001b[49m\u001b[43m \u001b[49m\u001b[43mname\u001b[49m\u001b[43m)\u001b[49m\n\u001b[0;32m    128\u001b[0m \u001b[38;5;66;03m# try to load the code from the bytecode cache if there is a\u001b[39;00m\n\u001b[0;32m    129\u001b[0m \u001b[38;5;66;03m# bytecode cache configured.\u001b[39;00m\n\u001b[0;32m    130\u001b[0m bcc \u001b[38;5;241m=\u001b[39m environment\u001b[38;5;241m.\u001b[39mbytecode_cache\n",
      "File \u001b[1;32mc:\\Users\\Ramil\\source\\repos\\OGD recommendation\\.venv\\Lib\\site-packages\\jinja2\\loaders.py:207\u001b[0m, in \u001b[0;36mFileSystemLoader.get_source\u001b[1;34m(self, environment, template)\u001b[0m\n\u001b[0;32m    205\u001b[0m         \u001b[38;5;28;01mbreak\u001b[39;00m\n\u001b[0;32m    206\u001b[0m \u001b[38;5;28;01melse\u001b[39;00m:\n\u001b[1;32m--> 207\u001b[0m     \u001b[38;5;28;01mraise\u001b[39;00m TemplateNotFound(template)\n\u001b[0;32m    209\u001b[0m \u001b[38;5;28;01mwith\u001b[39;00m \u001b[38;5;28mopen\u001b[39m(filename, encoding\u001b[38;5;241m=\u001b[39m\u001b[38;5;28mself\u001b[39m\u001b[38;5;241m.\u001b[39mencoding) \u001b[38;5;28;01mas\u001b[39;00m f:\n\u001b[0;32m    210\u001b[0m     contents \u001b[38;5;241m=\u001b[39m f\u001b[38;5;241m.\u001b[39mread()\n",
      "\u001b[1;31mTemplateNotFound\u001b[0m: /template.html"
     ]
    }
   ],
   "source": [
    "template = env.get_template(\"/\")"
   ]
  }
 ],
 "metadata": {
  "kernelspec": {
   "display_name": ".venv",
   "language": "python",
   "name": "python3"
  },
  "language_info": {
   "codemirror_mode": {
    "name": "ipython",
    "version": 3
   },
   "file_extension": ".py",
   "mimetype": "text/x-python",
   "name": "python",
   "nbconvert_exporter": "python",
   "pygments_lexer": "ipython3",
   "version": "3.11.2"
  }
 },
 "nbformat": 4,
 "nbformat_minor": 2
}
